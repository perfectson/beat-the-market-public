{
 "cells": [
  {
   "cell_type": "code",
   "execution_count": 1,
   "metadata": {},
   "outputs": [
    {
     "ename": "ModuleNotFoundError",
     "evalue": "No module named 'zipline'",
     "output_type": "error",
     "traceback": [
      "\u001b[0;31m---------------------------------------------------------------------------\u001b[0m",
      "\u001b[0;31mModuleNotFoundError\u001b[0m                       Traceback (most recent call last)",
      "\u001b[0;32m<ipython-input-1-1d54901a6df0>\u001b[0m in \u001b[0;36m<module>\u001b[0;34m\u001b[0m\n\u001b[0;32m----> 1\u001b[0;31m \u001b[0;32mfrom\u001b[0m \u001b[0mzipline\u001b[0m \u001b[0;32mimport\u001b[0m \u001b[0mrun_algorithm\u001b[0m\u001b[0;34m\u001b[0m\u001b[0;34m\u001b[0m\u001b[0m\n\u001b[0m\u001b[1;32m      2\u001b[0m \u001b[0;32mfrom\u001b[0m \u001b[0mzipline\u001b[0m\u001b[0;34m.\u001b[0m\u001b[0mapi\u001b[0m \u001b[0;32mimport\u001b[0m \u001b[0morder_target_percent\u001b[0m\u001b[0;34m,\u001b[0m \u001b[0msymbol\u001b[0m\u001b[0;34m\u001b[0m\u001b[0;34m\u001b[0m\u001b[0m\n\u001b[1;32m      3\u001b[0m \u001b[0;31m# Import date and time zone libraries\u001b[0m\u001b[0;34m\u001b[0m\u001b[0;34m\u001b[0m\u001b[0;34m\u001b[0m\u001b[0m\n\u001b[1;32m      4\u001b[0m \u001b[0;32mfrom\u001b[0m \u001b[0mdatetime\u001b[0m \u001b[0;32mimport\u001b[0m \u001b[0mdatetime\u001b[0m\u001b[0;34m\u001b[0m\u001b[0;34m\u001b[0m\u001b[0m\n\u001b[1;32m      5\u001b[0m \u001b[0;32mimport\u001b[0m \u001b[0mpytz\u001b[0m\u001b[0;34m\u001b[0m\u001b[0;34m\u001b[0m\u001b[0m\n",
      "\u001b[0;31mModuleNotFoundError\u001b[0m: No module named 'zipline'"
     ]
    }
   ],
   "source": [
    "from zipline import run_algorithm\n",
    "from zipline.api import order_target_percent, symbol\n",
    "# Import date and time zone libraries\n",
    "from datetime import datetime\n",
    "import pytz\n",
    "\n",
    "# Import visualization\n",
    "import matplotlib.pyplot as plt\n",
    "\n",
    "def initialize(context):\n",
    "    # Which stock to trade\n",
    "    context.stock = symbol('AAPL')\n",
    "\n",
    "    # Moving average window\n",
    "    context.index_average_window = 100\n",
    "\n",
    "def handle_data(context, data):\n",
    "    # Request history for the stock\n",
    "    equities_hist = data.history(context.stock, \"close\",\n",
    "                                    context.index_average_window, \"1d\")\n",
    "\n",
    "    # Check if price is above moving average\n",
    "    if equities_hist[-1] > equities_hist.mean():\n",
    "        stock_weight = 1.0\n",
    "    else:\n",
    "        stock_weight = 0.0\n",
    "\n",
    "    order_target_percent(context.stock, stock_weight)\n",
    "\n",
    "def analyze(context, perf):\n",
    "    fig = plt.figure(figsize=(12, 8))\n",
    "    \n",
    "    # First chart\n",
    "    ax = fig.add_subplot(311)\n",
    "    ax.set_title('Strategy Results')\n",
    "    ax.semilogy(perf['portfolio_value'], linestyle='-',\n",
    "                    label='Equity Curve', linewidth=3.0)\n",
    "    ax.legend()\n",
    "    ax.grid(False)\n",
    "    \n",
    "    # Second chart\n",
    "    ax = fig.add_subplot(312)\n",
    "    ax.plot(perf['gross_leverage'],\n",
    "                label='Exposure', linestyle='-', linewidth=1.0)\n",
    "    ax.legend()\n",
    "    ax.grid(True)\n",
    "\n",
    "    # Third chart\n",
    "    ax = fig.add_subplot(313)\n",
    "    ax.plot(perf['returns'], label='Returns', linestyle='-.', linewidth=1.0)\n",
    "    ax.legend()\n",
    "    ax.grid(True)\n",
    "\n",
    "# Set start and end date\n",
    "start_date = datetime(1996, 1, 1, tzinfo=pytz.UTC)\n",
    "end_date = datetime(2018, 12, 31, tzinfo=pytz.UTC)\n",
    "\n",
    "# Fire off the backtest\n",
    "results = run_algorithm(\n",
    "    start=start_date,\n",
    "    end=end_date,\n",
    "    initialize=initialize,\n",
    "    analyze=analyze,\n",
    "    handle_data=handle_data,\n",
    "    capital_base=10000,\n",
    "    data_frequency = 'daily', bundle='quandl'\n",
    ")\n",
    "\n"
   ]
  },
  {
   "cell_type": "code",
   "execution_count": null,
   "metadata": {},
   "outputs": [],
   "source": []
  },
  {
   "cell_type": "code",
   "execution_count": null,
   "metadata": {},
   "outputs": [],
   "source": []
  }
 ],
 "metadata": {
  "kernelspec": {
   "display_name": "Python 3",
   "language": "python",
   "name": "python3"
  },
  "language_info": {
   "codemirror_mode": {
    "name": "ipython",
    "version": 3
   },
   "file_extension": ".py",
   "mimetype": "text/x-python",
   "name": "python",
   "nbconvert_exporter": "python",
   "pygments_lexer": "ipython3",
   "version": "3.7.7"
  }
 },
 "nbformat": 4,
 "nbformat_minor": 4
}
